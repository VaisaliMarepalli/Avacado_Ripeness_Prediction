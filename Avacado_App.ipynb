{
 "cells": [
  {
   "cell_type": "code",
   "execution_count": 1,
   "id": "fdfd9928-269d-4783-82d7-8e7bff5d42d2",
   "metadata": {},
   "outputs": [],
   "source": [
    "import streamlit as st\n",
    "import joblib\n",
    "import numpy as np"
   ]
  },
  {
   "cell_type": "code",
   "execution_count": 2,
   "id": "aec274d8-af44-44f2-a0f4-94b0560ac569",
   "metadata": {},
   "outputs": [
    {
     "name": "stderr",
     "output_type": "stream",
     "text": [
      "2025-06-22 10:55:18.372 \n",
      "  \u001b[33m\u001b[1mWarning:\u001b[0m to view this Streamlit app on a browser, run it with the following\n",
      "  command:\n",
      "\n",
      "    streamlit run D:\\Python\\Lib\\site-packages\\ipykernel_launcher.py [ARGUMENTS]\n"
     ]
    },
    {
     "data": {
      "text/plain": [
       "DeltaGenerator()"
      ]
     },
     "execution_count": 2,
     "metadata": {},
     "output_type": "execute_result"
    }
   ],
   "source": [
    "st.title(\"🥑 Avocado Ripeness Predictor\")\n",
    "st.markdown(\"Predict ripeness based on avocado's physical characteristics.\")"
   ]
  },
  {
   "cell_type": "code",
   "execution_count": 3,
   "id": "cab573a7-3d8c-4f60-89f6-bae0555de507",
   "metadata": {},
   "outputs": [],
   "source": [
    "# Load model and scaler\n",
    "model = joblib.load(\"rf_model.pkl\")\n",
    "scaler = joblib.load(\"scaler.pkl\")"
   ]
  },
  {
   "cell_type": "code",
   "execution_count": 5,
   "id": "76bd0334-10f0-4b29-98bf-e0989af6ba63",
   "metadata": {},
   "outputs": [],
   "source": [
    "# Input fields for all 8 features\n",
    "firmness = st.number_input(\"Firmness (0–100)\", min_value=0.0, max_value=100.0, step=0.1)\n",
    "hue = st.number_input(\"Hue (0–360)\", min_value=0, max_value=360, step=1)\n",
    "saturation = st.number_input(\"Saturation (0–100)\", min_value=0, max_value=100, step=1)\n",
    "brightness = st.number_input(\"Brightness (0–100)\", min_value=0, max_value=100, step=1)\n",
    "\n",
    "color_category = st.selectbox(\"Color Category\", [\"Black\", \"Green\", \"Dark Green\", \"Purple\"])\n",
    "color_dict = {\"Black\": 0, \"Green\": 1, \"Dark Green\": 2, \"Purple\": 3}\n",
    "color_encoded = color_dict[color_category]\n",
    "\n",
    "sound_db = st.number_input(\"Sound Level (dB)\", min_value=0, max_value=150, step=1)\n",
    "weight_g = st.number_input(\"Weight (g)\", min_value=50, max_value=1000, step=10)\n",
    "size_cm3 = st.number_input(\"Size (cm³)\", min_value=10, max_value=2000, step=10)\n"
   ]
  },
  {
   "cell_type": "code",
   "execution_count": 6,
   "id": "9ccf196a-bcff-4316-8186-e75141991e69",
   "metadata": {},
   "outputs": [],
   "source": [
    "# Predict\n",
    "if st.button(\"Predict Ripeness\"):\n",
    "    input_data = np.array([[firmness, hue, saturation, brightness,\n",
    "                            color_encoded, sound_db, weight_g, size_cm3]])\n",
    "    input_scaled = scaler.transform(input_data)\n",
    "    prediction = model.predict(input_scaled)[0]\n",
    "\n",
    "    # Ripeness label map with emoji and color\n",
    "    ripeness_map = {\n",
    "        0: (\"Breaking\", \"🟠\", \"#FFA726\"),\n",
    "        1: (\"Firm-Ripe\", \"🟢\", \"#66BB6A\"),\n",
    "        2: (\"Hard\", \"🔵\", \"#42A5F5\"),\n",
    "        3: (\"Pre-Conditioned\", \"🟡\", \"#FFEB3B\"),\n",
    "        4: (\"Ripe\", \"🟣\", \"#AB47BC\")\n",
    "    }\n",
    "\n",
    "    label, emoji, bg_color = ripeness_map[int(prediction)]\n",
    "\n",
    "    # Display result\n",
    "    st.markdown(\n",
    "        f\"\"\"\n",
    "        <div style='padding:10px; background-color:{bg_color}; border-radius:10px; text-align:center'>\n",
    "            <h3 style='color:white;'>{emoji} Predicted Ripeness: <strong>{label}</strong></h3>\n",
    "        </div>\n",
    "        \"\"\",\n",
    "        unsafe_allow_html=True\n",
    "    )"
   ]
  },
  {
   "cell_type": "code",
   "execution_count": null,
   "id": "29226301-5f4f-430a-ab22-4c1ff4368e53",
   "metadata": {},
   "outputs": [],
   "source": []
  }
 ],
 "metadata": {
  "kernelspec": {
   "display_name": "Python 3 (ipykernel)",
   "language": "python",
   "name": "python3"
  },
  "language_info": {
   "codemirror_mode": {
    "name": "ipython",
    "version": 3
   },
   "file_extension": ".py",
   "mimetype": "text/x-python",
   "name": "python",
   "nbconvert_exporter": "python",
   "pygments_lexer": "ipython3",
   "version": "3.12.3"
  }
 },
 "nbformat": 4,
 "nbformat_minor": 5
}
